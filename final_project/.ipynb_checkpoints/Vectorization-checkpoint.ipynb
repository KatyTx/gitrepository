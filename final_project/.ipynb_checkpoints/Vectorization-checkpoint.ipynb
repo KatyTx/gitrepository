{
 "cells": [
  {
   "cell_type": "code",
   "execution_count": 1,
   "metadata": {},
   "outputs": [],
   "source": [
    "#import modules\n",
    "import pandas as pd\n",
    "import numpy as np\n",
    "import re\n",
    "\n",
    "# Custom preprocessing function\n",
    "from utils import preprocess_text\n",
    "\n",
    "\n",
    "# Vectorization methods\n",
    "from sklearn.feature_extraction.text import CountVectorizer, TfidfVectorizer"
   ]
  },
  {
   "cell_type": "code",
   "execution_count": 2,
   "metadata": {},
   "outputs": [
    {
     "name": "stdout",
     "output_type": "stream",
     "text": [
      "Apple Inc. (NASDAQ:AAPL) Q4 2020 Earnings Conference Call October 29, 2020  5:00 PM ET\n",
      "Company Participants \n",
      "Tejas Gala - Senior Manager, Corporate Finance and Investor Relations\n",
      "Tim Cook - Chief Executive Officer\n",
      "Luca Maestri - Senior Vice President and Chief Financial Officer\n",
      "Conference Call Participants\n",
      "Shannon Cross - Cross Research\n",
      "Jeriel Ong - Deutsche Bank\n",
      "Katy Huberty - Morgan Stanley\n",
      "Amit Daryanani - Evercore\n",
      "Samik Chatterjee - JP Morgan\n",
      "Krish Sankar - Cowen and Company\n",
      "Kyle McNealy - Jefferies\n",
      "Chris Caso - Raymond James\n",
      "Operator\n",
      "Good day everyone and welcome to the Apple Inc. Fourth Quarter Fiscal Year 2020 Earnings Conference Call. Today’s call is being recorded.\n",
      "At this time for opening remarks and introductions, I would like to turn things over to Tejas Gala, Senior Analyst, Corporate Finance and Investor Relations. Please go ahead, sir.\n",
      "Tejas Gala\n",
      "Thank you. Good afternoon and thank you for joining us. Speaking first today is Apple’s CEO, Tim Cook, and he will be followed by CFO, Luca Maestri. After that, we’ll open the call to questions from analysts.\n",
      "Please note that some of the information you’ll hear during the discussion today, will consist of our forward-looking statements including without limitation those regarding revenue, gross margin, operating expenses, other income and expense, taxes, capital allocation and future business outlook, including the potential impact of COVID-19 on the company’s business, and results of operations. These statements involve risks and uncertainties that may cause actual results or trends to differ materially from our forecast. For more information, please refer to the risk factors discussed in Apple’s most recently filed Annual Report on Form 10-K and the Form 8-K filed with the SEC today, along with the associated press release. Apple assumes no obligation to update any forward-looking statements or information, which speak as of their respective dates.\n",
      "I’d now like to turn the call over to Tim for introductory remarks.\n",
      "Tim Cook\n",
      "Thanks Tejas. Good afternoon and thanks for joining the call today. Back in April, I said we were in the most challenging environment in which Apple as a company has ever operated. That atmosphere of uncertainty, of resolve, of making difficult calls with limited information has not only come to define Apple’s year, but each of our lives as individuals across this country, and around the world. It has been a chapter that none of us will forget. In the face of these challenges, Apple stayed relentlessly focused on what we do best, seeing in every obstacle an opportunity to do something new, something creative, something better on behalf of our customers.\n",
      "Today we report a quarter and a fiscal year that reflects that effort. This quarter, Apple achieved revenue of $64.7 billion, a September quarter record, despite the anticipated absence of new iPhone availability during the quarter, and the ongoing impacts of COVID-19, including closures at many of our retail locations. We also set a new all-time record for Mac and Services. Outside of iPhone, each of our product categories saw strong double digit year-over-year growth, despite supply constraints in several product categories.\n",
      "Our results for this quarter were ahead of our expectations, driven by stronger-than-expected iPhone and Services performance. As we anticipated, we launched new iPhone models in October, a few weeks later than last year’s mid-September launch. Up to that mid-September point, customer demand for iPhone was very strong, and grew double-digits.\n",
      "On Services, we saw stronger-than-expected performance across the board. Geographically, we set September quarter records in the Americas, Europe and Rest of Asia Pacific. We also set a September quarter record in India, thanks in part to a very strong reception to this quarter’s launch of our online store in the country. Greater China is the region that was most heavily impacted by the absence of the new iPhones during the September quarter, still we beat our internal expectations in the region, growing non-iPhone revenue strong double digits and iPhone customer demand grew through mid-September.\n",
      "When you pull back the lens to the entire fiscal year, it’s a testament to the team’s work and to the resilience of the business in the era of COVID-19. This year, we set an all-time revenue record of $274.5 billion, growing 6% year-on-year. We grew every quarter, set all-time yearly records in Mac, Wearables Home and Accessories, and Services, and grew by double-digits in every product category outside of iPhone.\n",
      "When we first began to grapple with COVID-19, I said there are worse things for a company whose business is innovation, than having to periodically do just about everything in an entirely new way. This year, we not only launched our most powerful and compelling generation of hardware, software and Services ever, we did it in a way that pushes to reimagine every part of that innovation process, down to how we share these announcements with the world and how we get new products into our customers’ hands. Working from kitchen tables and bedrooms, in distanced office settings and rework labs and manufacturing facilities, the team rebuilt every part of the plane while it was mid-air, and the results speak for themselves.\n",
      "In a year that has been enormously challenging, our retail teams, contact centers, and all those who work with our customers most closely, have gone to creative and dedicated [lengths] [ph] to keep serving our customers. From adapting our stores for contactless pickup to new Apple Express storefronts, to new online customer support options. Amid store closings, reopenings and reimagining, these teams have been an unfailing source of energy, creativity and determination.\n",
      "Innovation isn’t just about what you make; it’s about how you approach problems, and these teams and every team across Apple having not faced a single question this year that they haven’t found an answer to with passion and resolve. Their actions didn’t just meet the moment; they will make us a better company moving forward.\n",
      "The pandemic has hit home for all of us, and at Apple we have seen it as a call to action. We have seen the pain in our communities. Many of us have seen our children work hard to adapt to remote learning, and we all know that the road ahead is uncertain. This quarter and throughout the year, our response to this crisis has been to ask, how can we help?\n",
      "In terms of COVID-19 response, that has meant sourcing and donating millions of face masks, designing and manufacturing millions of face shields, and scaling the production of millions of test kits. But we have tried to live our values more broadly. We’ve pledged $100 million to our new racial equity and justice initiative. We’ve committed to be fully carbon neutral by 2030 across our entire supply chain and device usage, as massive wildfires, hurricanes and floods, bring home the consequences of climate change for all of us. And we’ve deepened our enduring educational partnerships, from coding education beginning in elementary school, to new efforts with dozens of historically black colleges and universities.\n",
      "One of the many areas where COVID-19 continues to have a significant impact is in education. As teachers, students and parents alike work hard to keep education relevant, creative and effective, our products have helped them meet the moment. In a typical year, the back-to-school season is a bustling time for us. This year, that was true in the biggest way ever. We’ve helped school districts around the world meet this moment in an unprecedented way, including starting nine of our 10 largest school district deployments ever, that alone will support over 1 million students and teachers. We have also supported these deployments and educators and learners everywhere with free tools and training, reaching over 150,000 teachers and millions of parents and students around the world.\n",
      "Looking forward, we feel great optimism about the road in front of us. We’re in the midst of our most prolific product introduction period ever. In addition to the announcement of HomePod Mini, which achieves unmatched sound quality and Siri and smart-home capabilities in a small and affordable format, we just marked the beginning of a new era for iPhone, with the arrival of our first 5G enabled devices.\n",
      "The iPhone 12 and 12 Mini boasts powerful breakthroughs like an edge-to-edge Super Retina XDR display, unprecedented durability with a new ceramic shield, developed with our partners at Corning, new MagSafe charging and accessories, the fastest ever A14 Bionic chip, and a new dual camera system, driven by computational photography.\n",
      "The iPhone 12 Pro and 12 Pro Max take all of this to an even higher level, driven by the most powerful photo and video tools ever delivered by a smartphone, including an all new LiDAR scanner and the ability to shoot an Apple ProRAW and full Dolby video. And of course, all of these devices bring the 5G experience users have been waiting for, with lightning fast download and uploads, a new standard in video streaming, more responsive gaming and much more. The early product reviews have been tremendously positive, and our customers have been similarly excited to get their hands on this next era of devices. We’re very optimistic about what the next few weeks will bring.\n",
      "We’re also seeing a very positive response to our September announcement, the all new Apple Watch Series 6, boasts powerful new health and wellness features, including a blood oxygen sensor, a next generation altimeter, and a wide variety of new colors and bands. The potential for Apple Watch’s powerful health and wellness capabilities continues to grow.\n",
      "Just yesterday, the government of Singapore and Apple launched LumiHealth, a first of its kind program designed to encourage healthy activity and behaviors using Apple Watch. Created in collaboration with a team of physicians and public health experts, LumiHealth uses technology and behavioral insights to encourage Singaporeans to keep healthy and complete wellness challenges through their Apple Watch and iPhone. Singapore is a trailblazer here, and we’re proud to be their partner.\n",
      "Our iPad lineup continues to set the pace for the category, including the new iPad Air now shipping with the A14 Bionic, our most powerful chip ever. We announced Apple Fitness Plus, which delivers deep personalization and integration across the fitness tools our users love and depend on. And Apple One, launching tomorrow, is the easiest way for users to enjoy Apple’s services, like Music, TV+, Arcade, iCloud, News+ and Fitness+ on a single plan that is right for them and their family.\n",
      "Looking across services more broadly, we’re really excited about what we see. This was a record quarter for the App Store, AppleCare, Cloud Services, Music and Payment Services. The App Store in particular, continues to play an essential role in helping small businesses, educational institutions and workplaces adapt to COVID-19. Apple TV+ continues to impress, from fan favorites like Ted Lasso, which has won a worldwide audience with its hopeful tone during challenging times, to critical and award praise, including a Primetime Emmy for Billy Crudup in the morning show. Luca will speak in greater detail about our expectations for the December quarter. Without giving away too much, I can tell you that this year has a few more exciting things in store.\n",
      "Before I hand things off, I want to offer one more comment on resilience, because I think if I had to describe our performance this quarter in a single word, it’s resilient. Financial performance aside, I don’t think this year will be a time that any of us look back on with great fondness or nostalgia. Those of us, who wake up every day, hoping for a return to normal, can count ourselves fortunate. Others don’t have that luxury. There is the great pain of a lost loved one, the uncertainty and fear of a lost job, a deep well of concern for people we care about, who we are not able to see. A sense of opportunities missed, of plans delayed, of time lost. Even though we’re apart, it has been obvious this year that around the company, teams and colleagues have been leaning on and counting on each other more than in normal times. I think that instinct, that resilience has been an essential part of how we have navigated this year.\n",
      "Work can’t solve for all the things we’re missing right now, but a shared sense of purpose goes a long way. A belief that we can do more together than we can alone, that people of goodwill, driven by creativity and passion, and that certain itch of a big idea, can still do things that help other people in our own small way to teach, to learn, to create or just to relax at a time like this. Even as the things we make require us to operate at the very cutting edge of technology, in materials, products and ideas that didn’t exist just a few years ago, this year has forced us to face plainly the things that make us human; disease, resilience and hope. You never wished for a year like this one, but I couldn’t be prouder of the team, the work we have done and the small role we have played in helping our communities find hope and resilience in this time.\n",
      "With that, I’ll hand things over to Luca.\n",
      "Luca Maestri\n",
      "Thank you, Tim. Good afternoon, everyone. We are very pleased to report today a new September quarter revenue record, which caps a remarkable level of performance for our fiscal year 2020, during which we set new all-time records for revenue, earnings per share and free cash flow, in spite of an extremely volatile and challenging macro environment. We could not be more proud of the way our team has innovated and executed, throughout this unprecedented period of uncertainty.\n",
      "We reported total revenue of $64.7 billion for the September quarter, up 1% from a year ago. This is a very impressive level of performance, when we consider that this year; we did not launch and ship any new iPhone models during the quarter. Outside of iPhone, we grew 25% in aggregate, and had strong double-digit year-over-year revenue growth in each of our product categories. We set all-time records for Mac and Services, and a September quarter record for Wearables, Home and Accessories.\n",
      "We also achieved new September quarter records in the vast majority of countries that we track, including among others, The U.S., Canada Brazil, Germany, France, Italy, Spain, Turkey, Russia, India, Korea, Thailand, Malaysia and Vietnam. Products revenue was $50.1 billion with very strong underlying performance across each product category. Our products outside of iPhone grew a combined 30%, despite supply constraints on iPad, Mac and Apple Watch throughout the quarter. For iPhone, through mid-September, customer demand grew double-digits. As a result of this level of sales performance and the unmatched loyalty of our customers, our installed base of active devices reached an all-time high in aggregate, and in each of our major product categories.\n",
      "Our Services set an all-time record of $14.5 billion, growing 16% year-over-year. We established new all-time records in many Services categories and September quarter records in each geographic segment. I’ll cover this in more detail later.\n",
      "Company gross margin was 38.2%. This was up 20 basis points sequentially, due to cost savings and a higher mix of services, partially offset by a different mix of products. Products’ gross margin was 29.8%, growing 10 basis points sequentially, driven by cost savings, partially offset by a different mix. Services gross margin was 66.9% decreasing 30 basis points sequentially, mainly due to a different mix.\n",
      "Let me get into more detail for each of our product categories; iPhone revenue was $26.4 billion, as we did not have availability of new iPhone models during the September quarter this year, which we had mentioned during our call in July. While COVID-19 and social distancing measures impacted store operations in a significant manner, demand for iPhone remained very strong. In fact, through mid-September, customer demand for our current product lineup grew double digits, and was well above our expectations.\n",
      "Our active installed base of iPhones reached a new all-time high, thanks to the exceptional loyalty of our customer base and strength of our ecosystem. In fact, in the U.S., the last survey of consumers from 451 Research indicates iPhone customer satisfaction of 98% for iPhone 11, 11 Pro and 11 Pro Max combined.\n",
      "Turning to Services, as I said, we set an all-time revenue record of $14.5 billion. We grew strong double digits and set all-time records in App Store, Cloud Services, Music, Advertising and Payment Services. We also set an all-time record in Apple Care, as in-store traffic improved and we were able to support more customers. Our new services, Apple TV+, Apple Arcade, Apple News+, and Apple Card, are also contributing to overall services growth, and continue to add users, content and features. The key drivers for our Services growth, all continue to be moving in the right direction.\n",
      "First, our installed base continues to grow and is at an all-time high across each major product category. Second, the number of both transacting and paid accounts on our digital content stores reached a new all-time high during the September quarter, with paid accounts increasing double digits in each of our geographic segments.\n",
      "Third, paid subscriptions grew more than 35 million sequentially, and we now have over 585 million paid subscriptions across the services on our platform, up 135 million from just a year ago. With this momentum, we are very confident to reach and exceed our increased target of 600 million paid subscriptions before the end of calendar 2020.\n",
      "Finally, as Tim mentioned, we continue to improve the breadth and the quality of our current services offerings, and are adding new service offerings that we think our customers will love, like Apple One and Apple Fitness+.\n",
      "Wearables, home and accessories established a new September quarter record, with revenue of $7.9 billion, up 21% year-over-year. We set September quarter records in every geographic segment and for each of the three product categories; Wearables, Home and Accessories. As a result, our wearables business is now the size of a Fortune 130 company. Importantly, Apple Watch continues to extend its reach, with over 75% of the customers purchasing Apple Watch during the quarter, being new to the product. We’re very excited about the future of this category, including the recent launches of our new products; Apple Watch Series 6 NFC, HomePod Mini, and the MagSafe ecosystem of accessories.\n",
      "Next, I’d like to talk about Mac; revenue was by far an all-time record at $9 billion, up 29% over last year and $1.6 billion above our previous record, in spite of supply constraints during the quarter. We grew strong double digits in each geographic segment and set all time revenue records in the Americas, and the rest of Asia Pacific, as well as September quarter records in Europe and Japan.\n",
      "We’ve seen amazing customer response to the new MacBook Air and MacBook Pro and very strong demand during the back to school season.\n",
      "IPad performance was also very impressive, with revenue of $6.8 billion, up 46%, and our highest September quarter revenue in eight years despite supply constraints. Demand exceeded our expectations around the world, as we grew very strong double digits in every geographic segment, including an all-time record in Japan and a September quarter record in the Americas.\n",
      "Both Mac and iPad are incredibly relevant products for our customers in the current working and learning environments, and we are delighted that the most recent surveys of consumers from 451 Research, measure customer satisfaction at 93% for Mac and 95% for iPad. With this level of customer satisfaction and with around half of the customers purchasing Mac and iPad during the quarter being new to that product, it is no surprise that the active installed base for both products reached a new all-time high.\n",
      "In the Enterprise market, our products are helping companies grow their business, while achieving their sustainability goals. One example is Vestas, a leading producer of wind turbines. Vestas is using Apple products and native iOS apps extensively across their operations to deliver renewable energy efficiently to customers worldwide. For instance, they use iPads to help optimize onsite construction operations, cutting crane usage on average by one day per project. Vestas field technicians are using iPhone for work orders, troubleshooting a remote collaboration, saving them 400,000 service hours annually. More recently, they’ve started piloting the augmented reality capability in iPads, to help customers visualize wind turbine installations.\n",
      "We ended the quarter with almost $192 billion in cash plus marketable securities. We issued $5.5 billion of new term debt, and decreased short term borrowing facilities by $6.2 billion during the quarter, leaving us with total debt of $112 billion. As a result, net cash was $79 billion at the end of the quarter, as we continue on our path to reaching a net cash neutral position over time. We returned nearly $22 billion to shareholders during the September quarter, including $3.5 billion in dividends and equivalents, and $18 billion to open market repurchases of 168.7 million Apple shares. We also retired an additional 3.1 million shares, in the final settlement of our 16th ASR.\n",
      "Before looking ahead, I want to provide just a few highlights for the amazing fiscal year we just completed. In fiscal ’20, we grew revenue by 6% to $274.5 billion, a new all-time record. We showed remarkable resilience throughout the year, as we were able to grow both revenue and installed base of active devices in every quarter.\n",
      "During the September quarter, including $3.5 billion in dividends and equivalents and $18 billion through open market repurchases of 168.7 million Apple shares. We also retired an additional 3.1 million shares in the final settlement of our 16th ASR. Before looking ahead, I want to provide just a few highlights for the amazing fiscal year we just completed. In fiscal 20, we grew revenue by 6% to $274.5 billion and new all-time record.\n",
      "We showed remarkable resilience throughout the year as we were able to grow both revenue and installed base of active devices in every quarter. In spite of the most challenging economic environment we can remember, we said new revenue records in the Americas, in Europe and in the rest of Asia Pacific. We grow our business outside of iPhone by 16%. We grew earnings per share 10% to a new all-time record and most importantly, we continue to deliver innovative products and services that our customers love.\n",
      "As we move ahead into the December quarter, I’d like to provide some color on what we are seeing, which includes the types of forward-looking information that Tejas referred to, at the beginning of the call.\n",
      "Given the continued uncertainty around the world in the near term, we will not be issuing revenue guidance for the coming quarter. However, we are providing some insights on our expectations for the December quarter for our product categories. These directional comments, assume that COVID related impacts to our business in November and December are similar to what we’re seeing in October.\n",
      "We just started shipping iPhone 12 and 12 Pro, and we’re off to a great start. We are also excited to start preorders on iPhone 12 Mini and 12 Pro Max next Friday. Given the tremendously positive response, we expect iPhone revenue to grow during the December quarter, despite shipping iPhone 12 and 12 Pro four weeks into the quarter, and iPhone 12 Mini and 12 Pro Max seven weeks into the quarter. We expect all other products in aggregate to grow double digits, and we also expect services to continue to grow double digits.\n",
      "For gross margin, we expect it to be similar to our most recent quarters, despite the costs associated with the launch of several new products. For OpEx, we expect to be between $10.7 billion and $10.8 billion. We expect OI&E to be around $50 million, and the tax rate to be around 16%.\n",
      "Finally today, our Board of Directors has declared a cash dividend of $0.205 per share of common stock, payable November 12, 2020 to shareholders of record as of November 9, 2020.\n",
      "With that, let’s open the call to questions.\n",
      "Tejas Gala\n",
      "Thank you, Luca. We ask you that you limit yourself to two questions. Operator, may we have the first question please.\n",
      "Question-and-Answer Session\n",
      "Operator\n",
      "Certainly we'll hear first today from Shannon Cross, Cross Research.\n",
      "ShannonCross\n",
      "Thank you very much. Tim, can you talk a bit more about China? And in terms of linearity, I think Luca, you'd mentioned that services in all regions were up at an all time high. I'm not sure exactly what your comment was. But, maybe give us a little idea of, whether you're seeing any blowback or benefits in the Huawei situation and just dig a bit more into the trends we're seeing in China, and then have a follow up. Thank you.\n",
      "TimCook\n",
      "Thanks, Shannon. If you look at China, and look at last quarters, I'll talk about both last quarter and this quarter, the last quarter, what we saw was our non iPhone business was up strong double digit for the full quarter. And then if you look at iPhone and you look at it in two parts one, pre mid September, which is pre the point at which the previous year, we would have launched iPhones that period of time which was the bulk of the quarter iPhone was growing from a customer demand point of view. And of course not shipping new iPhones for the last two weeks of September makes that number in the aggregate a negative but the net is the underlying business in China last quarter was very strong and perhaps very different than you might think from just a quick look at the stated number\n",
      "In terms of this quarter, given the explanation for last quarter and the momentum that we've got, and as importantly given the initial data points that we see on iPhone 12 and iPhone 12 Pro, although we don't guide to revenue as Lucas said, I would tell you that we're confident that we will grow this quarter in China. And so we're very bullish on what's going on there.\n",
      "A little more color on last quarter, we had a much more significant inventory draw down on the channel side than other regions. And so that is one reason why the numbers are different than other regions. And additionally, the new products in the year ago quarter were a higher percentage of our iPhone sales than they were in other regions. So hopefully that explains what's going on in China.\n",
      "In terms of the market there, 5G is fairly advanced there. They're forecasting 600,000 base stations by the end of the year. And so we're entering the market at a very good time, and with the reception that we've gotten so far; we're very confident there.\n",
      "ShannonCross\n",
      "Okay, great. And then can you talk a bit about just overall in the world, the cadence that you see sort of for the 5G adoption launch, what you see will be sort of the key drivers, obviously, there's a fair amount of subsidies going on in the US at this point. Thank you.\n",
      "TimCook\n",
      "Yes, we're working hard to provide the best experience for iPhone users. To do so we've been collaborating closely with carriers all around the world to ensure iPhone has great throughput and coverage and battery and call quality. We've completed 5G testing so far on over 100 carriers in over 30 regions. And so it's pretty, it's pretty pervasive around the world. But grantedly, it will continue to roll out in more places as carriers continue to expand their coverage. And this will happen every week. And so it's just going to get better. There are obvious places in the world where it's more ahead than others. But we feel like we are entering at a sort of at exactly the right time.\n",
      "Operator\n",
      "That will be from Jeriel Ong from Deutsche Bank.\n",
      "JerielOng\n",
      "Yes, thank you so much. I guess I appreciate the guidance for revenue to grow but I guess my question, perhaps, if I could, is relative to seasonality, you guys over the last five years of seasonality is typically above 50% quarter-on-quarter, do you think that you can beat that, even with the later release? And I have a follow up.\n",
      "LucaMaestri\n",
      "So as I said, Jay, we're not providing a range, for the reasons that I explained during my prepared remarks. So you need to keep in mind a couple of things that are unique about this quarter versus the past. And that I mentioned again, the launch timing of the phones is different from the past. So we are launching the new iPhones, four weeks into the quarter for two models for the 12 and 12 Pro and seven weeks into the quarter for the other two, the iPhone Mini and for 12 Pro Max. So that is something to keep in mind as you think about the growth rates. With regard to all the other product categories, as I said, we are expecting to grow double digits essentially across the board for the rest of our products and for services.\n",
      "And so we are incredibly optimistic about what we've seen so far. Obviously, we started taking pre orders five days ago and it's a bit early for the phone. But we think that there are a lot of tailwinds this year for iPhone for the entire cycle. Some of the comments that Tim has already made, right, we've got the best lineup of iPhones that we've ever had. We got an install base of iPhone that is very large continues to grow. It's an all time high. Obviously, 5G is a once in a decade, opportunity. And as you've seen in some markets, certainly here in the United States, carrier offers are very aggressive. And so that is very good for consumers and ultimately, very good for us. So very, very optimistic, given what we've seen so far.\n",
      "JerielOng\n",
      "Awesome, thank you so much for that context and given us some of the levers to think about. I'd like to ask a little bit more of a strategic one, a little bit longer term in nature. I think one thing is interesting about the Apple one bundle is the desire two bundles in the first place, I guess. I'm wondering, and some investors have asked me this as well, is that why wouldn't you also take that rationale perhaps in hardware, perhaps maybe AirPods and iPhone or AirPods watch and iPhone? Because if it makes sense to bundle services, would it also make sense to bundle hardware? And if that's not the case, then are there benefits of services, bundling that don't necessarily translate to hardware bundling? Thanks.\n",
      "TimCook\n",
      "Yes, we don't have anything to announce today at our hardware bundle but backing up a bit. And we do view that people like to pay for their hardware are at least some substantial portion of it monthly. And so that's the reason that we have implemented installments in our stores and online. And that's the reason you see in some of the channels too selling the hardware on a per month kind of basis. If that begins to look like a subscription, perhaps to some buyers because they're used to holding the phone for a fixed period of time and then turning it over and using the residual value of that phone in a way that gives them a de facto kind of subsidy on a new phone. And so there is something today in the market that works somewhat similar. On the services side; we have -- we had customers coming to us and asking for an easier way to buy all of our services. And we wanted to provide that and we're looking forward to tomorrow to getting Apple one out there.\n",
      "Operator\n",
      "It will come from Katy Huberty with Morgan Stanley.\n",
      "KatyHuberty\n",
      "Thank you. Good afternoon. New technologies, including the chips that support 5G put upward pressure on cost this year. But you managed to leave ASPS for iPhones relatively unchanged this product cycle. How should we think about the margin profiles of iPhone 12 relative to past iPhone cycles?\n",
      "LucaMaestri\n",
      "Hi, Katy. Obviously, we don't provide any outlook at the gross margin level for product categories. What I said in my prepared remarks, we expect gross margins in total for the company to be pretty much in line with what we've seen during the last quarter. Because obviously, as you said, it's very good, right, because we are offering the new phones at price points that are essentially unchanged. And we are taking on a lot of new technology into the phones. I would say the commodity environment is good. For the first time in many, many quarters, I don't have to say that foreign exchange is a headwind and getting into the quarter is not going to be a factor during the quarter.\n",
      "As we've made it clear in our comments, we are bullish about our sales performance expectation, so we should be getting some leverage. And so I think that the gross margin dynamics are good and it's very good to see that we're able to offer so much more technology and still able to deliver the level of gross margins that I think investors are expecting.\n",
      "KatyHuberty\n",
      "Okay and shifting to the services business. This isn't dependent on certainly any one service but licensing and other historically has been a driver of growth. That's where the ad based revenue comes in. When you think about the Google antitrust pressure, what's the risk that you see some shrinkage in your licensing and others segment within services and do you see opportunities for other services to make up for any potential weakness?\n",
      "KatyHuberty\n",
      "We've got Katy, as you know; we've announced a number of services over the last couple of years. And we are ramping those between Apple TV plus and Apple News plus and Apple Kay, we've got Apple Card. We've got Apple Fitness Plus coming. We've got a number of services that have been launched a bit longer that are doing really well from the app store to iCloud, and So there's a lot of room their input and potential there. I have no idea how the DOJ suit will go, but I think it's a long way from a conclusion on it.\n",
      "Operator\n",
      "That will come from Evercore's Amit Daryanani.\n",
      "AmitDaryanani\n",
      "Thanks for taking my question. I guess I have two as well. First off, Tim, on iPhones, you talked about the iPhone install data thing being the highest and largest ever been satisfaction rates, obviously pretty high. And our data would suggest replacement cycles are getting elongated. And if I take all of that together, along with the fact that, if iPhone user like me with embarrassingly high weekly usage rate, does that in aggregate give you better confident, better clarity that we could enter an extensive period of iPhone revenue growth versus what we seen the last couple of years.\n",
      "TimCook\n",
      "We're very bullish on this cycle, very bullish on it, because as I sort of step back from it and look at what we've now done, we have for the first time ever, we've launched four iPhones. And there is an iPhone for everyone there. It is the strongest lineup we've ever had by far, we have -- we do have a very large, loyal and growing install base. And we're also reaching out to switchers. And so I'm very optimistic there. We've got a once in a decade opportunity with 5G. There's a lot of excitement around 5G. And we've got some aggressive offers in the marketplace. And so when I think about all of those, I'm really and I look at the initial data points that we've got on the iPhone 12 and the 12 Pro, we are off to a great start.\n",
      "AmitDaryanani\n",
      "Got it. And I guess, Luca had a follow up to you on the services gross margin it just was to kind of continue to move higher rather nicely. Do you think this level at 67% essentially is sustainable? And what do you think are the two or three factors that are enabling these gross margins to remain here as we go forward?\n",
      "LucaMaestri\n",
      "I mean, obviously, we're very pleased with the level of gross margins in services, as you said; they've been expanding almost 300 basis points on a year-over-year basis. The reason for that is, of course that, we are growing the services revenue, and therefore we're getting leverage on a lot of these services, right. Some of it, as explained in the past, we have a portfolio of services that got different margin profiles. And so sometimes, depending on the mix of products we have, we can see margin expansion through mix, as well. And so, but we're also launching new services that where we need to invest heavily up front. And but we think we've been able to show, for example, this year that we've launched a lot of new services, made all the necessary investments and still being able to expand gross margin.\n",
      "So we feel quite confident about that trajectory that we have, that we have for services and we're very, very happy to see the customer response to really all of them, because as we've mentioned earlier, I mean, we've seen revenue records across essentially every category and in across the entire world, right? We've seen September quarter records in every geography around the world. So of the dynamics, all the levers that we have in the services business are working very well right now. And that translates also into margin, of course.\n",
      "Operator\n",
      "We'll hear from Samik Chatterjee with JP Morgan.\n",
      "SamikChatterjee\n",
      "Hi, thanks for taking the question. I just want to start off with the iPhone lineup here, particularly as you mentioned, the carrier subsidies that you see mixed optimistic about iPhone sales. I think just looking at some other factors here. Earlier in the year, you had mentioned that iPhone sales was seeing an uptake with stimulus checks going out to consumers helping in the consumer spending overall here in the US. So as we see some delays here on that front, are you seeing anything change on the consumer spending side as a macro impacting? How you think about iPhone sales, particularly with -- even with the new product lineup? And I have a follow up. Thank you.\n",
      "TimCook\n",
      "It's prior to mid September, we were seeing double digit growth in customer demand on iPhone. So there's a lot of momentum there. And there is a lot of momentum even much more so now given the launch of the 12 Pro and the iPhone 12. If you're asking whether it could have been even more with a different macro spending environment? I believe the answer to be yes. But you can't run the experiment. And so I don't know for sure. But I suspect that just the COVID in general take something off from a worldwide economic point of view.\n",
      "SamikChatterjee\n",
      "Perfect. And if can just follow up just following up on that COVID discussion. We are potentially here looking at a second wave, right. And I think all companies are trying to prepare for that which you discussed as well in your prepared remarks. But if you can share any kind of thoughts about how you're preparing in relation to either inventory levels, or sourcing from the supply chain, to prepare for any potential disruption, like we had earlier this year?\n",
      "TimCook\n",
      "Well, we're doing everything we can do. But we're prioritizing safety first, obviously. And so with our stores as an example, we've come up with a new concept that puts an essentially turns the store into an express storefront. And we've implemented that in a number of places where we believe that helps from the safety of our employee and the safety of the customer's point of view, but still allows for an interaction to take place. And so we've also put a lot more people on the phones because a lot more people are reaching out to us in that way. And of course, the online store has stayed up and running through the whole of this. I think if you take some of those, the channel is doing some similar things and then some different things as well.\n",
      "And so I think everybody to the best of their ability is putting in contingency plans and finding a way to adapt to the environment. But it is difficult to call and there's a level of uncertainty in it, obviously. And that's what Luca was referring to earlier.\n",
      "Operator\n",
      "That will come from Krish Sankar from Cowen and Company.\n",
      "KrishSankar\n",
      "Hi, thanks for taking my question. I have two of them, first on palooka. I understand you don't want to give color on gross margin by products or segments. But Luca you mentioned growth margin should be similar in December versus September. And so it should grow double digit, there's a general view that on the iPhone side, the bond cost would be headwind for gross margin, but carrier subsidies would be attainment. So I'm kind of curious, how should we think about the different, like gross margin levels into December quarter? And I have a follow up.\n",
      "LucaMaestri\n",
      "Yes. And so typically during the December quarter, we have positive factors because we have the typical seasonal leverage, right, sequentially as we go from September to the holiday season. And we also have an improved mix between products, particularly this year, as we've launched the new iPhone, at the same time, we shouldn't forget that we have launched a lot of new products. During the last several weeks, we launched four new models of iPhone; we launch new models of Apple watch new, models of iPads. And so, clearly every time we launch a new product, the cost structure is higher. And so that is going to be the other side of the coin. So but we think that those two things should balance out and again, as I was saying earlier, and we are accomplishing this while delivering a lot of new technologies, a lot of new features to our customers. This time for an exchange is not a factor and that's something that is a bit different from the past. So but that those are the pluses and minuses.\n",
      "KrishSankar\n",
      "Got it. Definitely helpful, Luca. And then a follow up for Tim. Tim, I kind of surprised you didn't say a lot about the payments ecosystem in this prepared comments kind of curious to find out from your advantage point, how you think of your whole payments ecosystem including Apple Card, Apple Pay, Apple Cash; now you're disaggregating the whole FinTech environment.\n",
      "TimCook\n",
      "Thanks for the question. There's just a limited number of things I can talk about is kind of a reason I didn't talk about it. We continue to be very enthusiastic about the whole Payment Services area. Apple Card is doing well. And Apple Pay is doing exceptionally well. As you can imagine in this environment, people are less want to hand over a card. So this contactless payment has taken on a different level of adoption in it that I think will never go back. The US has been lagging a bit in contactless payment. And I think that the pandemic may well get put the US on a different trajectory there. And so we are very bullish about this area and view that there are there are more things that Apple can do in this space. And in so it's an area of great interest to us.\n",
      "Operator\n",
      "That will come from Kyle McNealy with Jefferies.\n",
      "KyleMcNealy\n",
      "Hi, thanks for the question. I wanted to ask a little bit about the supply chain. Given your latest start from manufacturing to the flagship phone line of this year, do you think that supply will be able to meet demand through the end of the calendar? Are there any component shortages that you're seeing? Or are there any actions that you can take to increase weekly output versus last year? Thanks.\n",
      "TimCook\n",
      "Yes, Kyle, I don't know what you're talking about iPhone in particular. But if you look at iPhone, we are constrained today. And that's not a surprise where at the front end of the ramp, if you will, and how long we will be supply constrained, it's hard to predict. I mean, we haven't taken orders yet for the iPhone 12 Mini or the Pro Max either. And so those are coming in. So we shall see. But right now we are supply constrained, we are also supply constrained for avoidance of any confusion where supply constrained on Mac, we are supply constrained on iPad. And we're supply constrained on some Apple watches as well. And so we have a fair number of areas right now of focus, and we're working really, really hard to remedy those as quickly as we can. But at this point, I can't estimate when we'll be out of that.\n",
      "KyleMcNealy\n",
      "Okay, great. Thanks a lot. And then switching to Mac and iPad. How do you think about the durability of the strength you've seen there with Mac and iPad? Is there any potential for stronger than seasonal pullback after the strong back to school season and holiday season? And these supply constraints make it feel like there's a good chance for continuation of the strong demand trends and in flow through of that. What do we think about the seasonality into December and March quarter being more positive in seasonal or less positive in seasonal? Thanks.\n",
      "TimCook\n",
      "Yes, we placed our thoughts in the color that Luca provided when he said that all products excluding iPhone, all products and services excluding iPhone or all products, rather excluding iPhone would grow in the double digits. And so we continue to be bullish on what Mac and iPad can do. I think the moves that have taken place to remote learning and remote work are not going to go back to normal, normal will become something different. Because I think people are learning that there are aspects of this that work well. And so I don't believe that we're going to go back to where we were. And I think that means that iPads and Macs are even more important in those environments. The growth in both of these last quarter were phenomenal as you can tell from your from datasheet with Mac at 29 and iPad at 46.\n",
      "These are tremendous numbers and as Luca said the September quarter was the all time high for Mac in the history of the company, and by not by little bit by $1.6 billion. And so it was a substantial difference that we did have aggressive promotion for college students that were going back to going back to school. And so that invariably part of it. But I think the other part of it during the remote work thing is not something that's going to snap back to the way it used to be anytime soon.\n",
      "Operator\n",
      "That will come from Chris Caso with Raymond James.\n",
      "ChrisCaso\n",
      "Yes, thank you. I guess first question is on iPhone pricing. And there was some changes in the iPhone price back this year, the iPhone, the price point for iPhone 12 moves up a bit, I guess the difference the gap between 12 and 12 Pro is smaller. And I guess that's after you made some adjustments years prior where the price point came down a bit? Can you talk through the thought process behind that and the potential implications for either unit out elasticity or blended ASP as a result of the price changes?\n",
      "TimCook\n",
      "Well, I the iPhone 12 family start at $699. In many places, because you can get in the deals that people are really paying are very different than that, because a lot of people, particularly in this country, but also in several other countries in the world connect to a carrier plan. And of course, those offers are much more aggressive. And so the price that our customers paying is probably the most important one. The iPhone 12 is at $799. And so I think what you're saying is there's a $200 difference there. But I would guess that people are viewing it more as a $300 difference between the 12 Mini and the 12 Pro. And so we'll see what the mix turns out. Right now we have no data other than 12 and 12. Pro, we like the data on the 12 Mini and the Pro Max, because we're not taking orders yet. But what we try to always do in pricing is give the customer a great value. And I feel like we really did that this year. And that's despite, as was mentioned earlier, all of the extra features that we placed into the phones, including 5G.\n",
      "ChrisCaso\n",
      "As a follow up you mentioned, some of the carrier incentives we've seen here in the US. And if you could provide some more color about that, about what you're seeing now. And obviously, as we went through, years ago, the incentive from carriers were a lot larger. Is this mark some shift in the approach of carriers as we're moving into 5G? What's the extent of the permanence of some of these incentives? And then, as 5G rolls out around the world and into other geographies, is this something we should expect that as either they try to protect from switchers or kind of promote the 5G networks will see a higher prevalence of incentives and carriers as we go forward?\n",
      "TimCook\n",
      "I don't want to speak for our carrier partners that would be up to them to talk about their plans. Generally, I think it's to the vast, vast majority of carriers around the world to their interest to move customers to 5G. And I think it's in the customer's interest to move to 5G and obviously, we like that as well. And so I think you have a situation where everyone's whoring in the same direction. And that's a very different kind of situation than normally we would have. And so it is one of the things as I alluded to earlier that makes me very bullish, only one, the other things are very important to the size of the install base, the product lineup, these things are critically important as well.\n",
      "Tejas Gala\n",
      "Thank you, Chris. A replay of today's call will be available for two weeks on Apple podcasts, as a webcast on apple.com/investor and via telephone. The numbers for the telephone replay are 888-203-1112 or 719-457- 0820, please enter confirmation code 9501153. These replays will be available by approximately 5 PM Pacific time today. Members of the press with additional questions can contact Kristin Huguet at 408-974-2414; financial analysts can contact me with additional questions at 669-227-2402. Thank you again for joining us.\n",
      "Operator\n",
      "And again, that does conclude today's conference. Thank you all for joining us today.\n",
      "\n",
      "\n",
      "\n",
      "\n",
      "\n",
      "1\n",
      "          V. Bearish\n",
      "        \n",
      "2\n",
      "          Bearish\n",
      "        \n",
      "3\n",
      "          Neutral\n",
      "        \n",
      "4\n",
      "          Bullish\n",
      "        \n",
      "5\n",
      "          V. Bullish\n",
      "        \n",
      "15 Authors in the Last 30 Days\n",
      "\n"
     ]
    }
   ],
   "source": [
    "#read csv that includes stock data\n",
    "transcribed_list= pd.read_csv('transcribed_transcript_list.csv')\n",
    "transcribed_list.head(10)\n",
    "print(transcribed_list['transcript'][0])"
   ]
  },
  {
   "cell_type": "code",
   "execution_count": 3,
   "metadata": {},
   "outputs": [
    {
     "data": {
      "text/html": [
       "<div>\n",
       "<style scoped>\n",
       "    .dataframe tbody tr th:only-of-type {\n",
       "        vertical-align: middle;\n",
       "    }\n",
       "\n",
       "    .dataframe tbody tr th {\n",
       "        vertical-align: top;\n",
       "    }\n",
       "\n",
       "    .dataframe thead th {\n",
       "        text-align: right;\n",
       "    }\n",
       "</style>\n",
       "<table border=\"1\" class=\"dataframe\">\n",
       "  <thead>\n",
       "    <tr style=\"text-align: right;\">\n",
       "      <th></th>\n",
       "      <th>transcript</th>\n",
       "      <th>char_count</th>\n",
       "    </tr>\n",
       "  </thead>\n",
       "  <tbody>\n",
       "    <tr>\n",
       "      <th>0</th>\n",
       "      <td>Apple Inc. (NASDAQ:AAPL) Q4 2020 Earnings Conf...</td>\n",
       "      <td>49717</td>\n",
       "    </tr>\n",
       "    <tr>\n",
       "      <th>1</th>\n",
       "      <td>Apple Inc. (NASDAQ:AAPL) Q3 2020 Results Confe...</td>\n",
       "      <td>46305</td>\n",
       "    </tr>\n",
       "    <tr>\n",
       "      <th>2</th>\n",
       "      <td>Apple Inc. (NASDAQ:AAPL) Q2 2020 Results Confe...</td>\n",
       "      <td>46869</td>\n",
       "    </tr>\n",
       "    <tr>\n",
       "      <th>3</th>\n",
       "      <td>Apple Inc. (NASDAQ:AAPL) Q1 2020 Results Confe...</td>\n",
       "      <td>46419</td>\n",
       "    </tr>\n",
       "    <tr>\n",
       "      <th>4</th>\n",
       "      <td>AbbVie Inc. (NYSE:ABBV) Q3 2020 Results Earnin...</td>\n",
       "      <td>75442</td>\n",
       "    </tr>\n",
       "  </tbody>\n",
       "</table>\n",
       "</div>"
      ],
      "text/plain": [
       "                                          transcript  char_count\n",
       "0  Apple Inc. (NASDAQ:AAPL) Q4 2020 Earnings Conf...       49717\n",
       "1  Apple Inc. (NASDAQ:AAPL) Q3 2020 Results Confe...       46305\n",
       "2  Apple Inc. (NASDAQ:AAPL) Q2 2020 Results Confe...       46869\n",
       "3  Apple Inc. (NASDAQ:AAPL) Q1 2020 Results Confe...       46419\n",
       "4  AbbVie Inc. (NYSE:ABBV) Q3 2020 Results Earnin...       75442"
      ]
     },
     "execution_count": 3,
     "metadata": {},
     "output_type": "execute_result"
    }
   ],
   "source": [
    "#add column that includes the total character count for each earning call transcrip\n",
    "transcribed_list['char_count']= transcribed_list['transcript'].str.len()\n",
    "transcribed_list[['transcript', 'char_count']].head()"
   ]
  },
  {
   "cell_type": "code",
   "execution_count": 4,
   "metadata": {},
   "outputs": [],
   "source": [
    "# reference link-https://stackoverflow.com/questions/8376691/how-to-remove-hashtag-user-link-of-a-tweet-using-regular-expression\n",
    "# function to remove punctuation\n",
    "import re,string\n",
    "#('[^\\w\\s]','')\n",
    "def strip_links(text):\n",
    "    link_regex    =  re.compile('((https?):((//)|(\\\\\\\\))+([\\w\\d:#@%/;$()~_?\\+-=\\\\\\.&](#!)?)*)', re.DOTALL)\n",
    "    links         = re.findall(link_regex, text)\n",
    "    for link in links:\n",
    "        text = text.replace(link[0], ', ')    \n",
    "    return text\n",
    "\n",
    "def strip_all_entities(text):\n",
    "    entity_prefixes = ['@','#',\"\"]\n",
    "    for separator in  string.punctuation:\n",
    "        if separator not in entity_prefixes :\n",
    "            text = text.replace(separator,' ')\n",
    "    words = []\n",
    "    for word in text.split():\n",
    "        word = word.strip()\n",
    "        if word:\n",
    "            if word[0] not in entity_prefixes:\n",
    "                words.append(word)\n",
    "    return ' '.join(words)"
   ]
  },
  {
   "cell_type": "code",
   "execution_count": 5,
   "metadata": {},
   "outputs": [
    {
     "name": "stdout",
     "output_type": "stream",
     "text": [
      "0    Apple Inc NASDAQ AAPL Q4 2020 Earnings Confere...\n",
      "1    Apple Inc NASDAQ AAPL Q3 2020 Results Conferen...\n",
      "2    Apple Inc NASDAQ AAPL Q2 2020 Results Conferen...\n",
      "3    Apple Inc NASDAQ AAPL Q1 2020 Results Conferen...\n",
      "4    AbbVie Inc NYSE ABBV Q3 2020 Results Earnings ...\n",
      "5    AbbVie Inc NYSE ABBV Q2 2020 Earnings Conferen...\n",
      "Name: no_punctuation, dtype: object\n"
     ]
    }
   ],
   "source": [
    "#apply function above to transcript column\n",
    "transcribed_list['no_punctuation']=transcribed_list['transcript'].map(lambda x:strip_all_entities(strip_links(x)))\n",
    "\n",
    "print(transcribed_list['no_punctuation'][0:6])"
   ]
  },
  {
   "cell_type": "code",
   "execution_count": 6,
   "metadata": {},
   "outputs": [
    {
     "name": "stdout",
     "output_type": "stream",
     "text": [
      "0    Apple Inc NASDAQ AAPL Q4 2020 Earnings Confere...\n",
      "1    Apple Inc NASDAQ AAPL Q3 2020 Results Conferen...\n",
      "2    Apple Inc NASDAQ AAPL Q2 2020 Results Conferen...\n",
      "3    Apple Inc NASDAQ AAPL Q1 2020 Results Conferen...\n",
      "4    AbbVie Inc NYSE ABBV Q3 2020 Results Earnings ...\n",
      "5    AbbVie Inc NYSE ABBV Q2 2020 Earnings Conferen...\n",
      "Name: no_punctuation, dtype: object\n"
     ]
    }
   ],
   "source": [
    "#remove quotes and apostrophes\n",
    "transcribed_list['no_punctuation']=transcribed_list['no_punctuation'].str.replace('[^\\w\\s]','')\n",
    "print(transcribed_list['no_punctuation'][0:6])"
   ]
  },
  {
   "cell_type": "code",
   "execution_count": null,
   "metadata": {},
   "outputs": [],
   "source": [
    "#preprocess latest transcriped list with preprocess function in utils.py file\n",
    "\n",
    "transcribed_list['preprocess_trans']= transcribed_list['no_punctuation'].apply(lambda x : ' '.join(preprocess_text(x, min_word_length=4)))\n",
    "print(transcribed_list['preprocess_trans'][0:6])"
   ]
  },
  {
   "cell_type": "code",
   "execution_count": null,
   "metadata": {},
   "outputs": [],
   "source": [
    "# removal words used infrequently @10% of the amount of transcripts\n",
    "\n",
    "in_freq_words = pd.Series(' '.join(transcribed_list['preprocess_trans']).split()).value_counts()[-400:]\n",
    "in_freq_words.head()"
   ]
  },
  {
   "cell_type": "code",
   "execution_count": null,
   "metadata": {},
   "outputs": [],
   "source": [
    "# list frequent words @10% of the amount of transcripts\n",
    "\n",
    "freq_words = pd.Series(' '.join(transcribed_list['preprocess_trans']).split()).value_counts()[400:]\n",
    "freq_words.head()"
   ]
  },
  {
   "cell_type": "code",
   "execution_count": null,
   "metadata": {},
   "outputs": [],
   "source": [
    "# Removing the infrequent words from the  transcript file\n",
    "in_freq_words = list(in_freq_words.index)\n",
    "transcribed_list['clean_trans'] = transcribed_list['preprocess_trans'].apply(lambda x: \" \".join(x for x in x.split() if x not in in_freq_words))\n",
    "transcribed_list['clean_trans'].head()"
   ]
  },
  {
   "cell_type": "code",
   "execution_count": null,
   "metadata": {},
   "outputs": [],
   "source": [
    "#list to include most common words\n",
    "all_words = []\n",
    "for line in list(transcribed_list['clean_trans']):\n",
    "    words = line.split()\n",
    "    for word in words:\n",
    "        all_words.append(word.lower())\n",
    "print(all_words[10])\n",
    "\n",
    "featured_words = list(all_words)[:1000]\n",
    "print(featured_words)"
   ]
  },
  {
   "cell_type": "code",
   "execution_count": null,
   "metadata": {},
   "outputs": [],
   "source": [
    "import nltk\n",
    "import matplotlib.pyplot as plt\n",
    "%matplotlib inline\n",
    "plt.figure(figsize=(12,5))\n",
    "plt.xticks(fontsize=13, rotation=90)\n",
    "fd = nltk.FreqDist(all_words)\n",
    "#display top word frequency of the top 40 words\n",
    "fd.plot(40,cumulative=False)\n",
    "\n",
    "# Exports graph as a png image file\n",
    "plt.savefig(\"Fig1Top40Words.png\")"
   ]
  },
  {
   "cell_type": "code",
   "execution_count": null,
   "metadata": {},
   "outputs": [],
   "source": [
    "# log-log of all words\n",
    "from collections import Counter\n",
    "word_counts = sorted(Counter(all_words).values(), reverse=True)\n",
    "plt.figure(figsize=(12,5))\n",
    "plt.loglog(word_counts, linestyle='-', linewidth=1.5)\n",
    "plt.ylabel(\"Word Frequency\")\n",
    "plt.xlabel(\"Word Ranking\")\n",
    "\n",
    "# Exports graph as a png image file\n",
    "plt.savefig(\"Fig2WordFreqandRank.png\")"
   ]
  },
  {
   "cell_type": "code",
   "execution_count": null,
   "metadata": {},
   "outputs": [],
   "source": [
    "#verify latest dataframe column output\n",
    "transcribed_list.head()"
   ]
  },
  {
   "cell_type": "code",
   "execution_count": null,
   "metadata": {},
   "outputs": [],
   "source": [
    "#remove stop words\n",
    "from sklearn.feature_extraction import text #import package\n",
    "\n",
    "skl_stopwords = text.ENGLISH_STOP_WORDS\n",
    "#print(skl_stopwords)\n",
    "\n",
    "from nltk.corpus import stopwords # for excluding the stopwords\n",
    "\n",
    "#creating an object using the default nltk stopwords\n",
    "nltk_stopwords = stopwords.words(\"english\")\n",
    "print(nltk_stopwords)"
   ]
  },
  {
   "cell_type": "code",
   "execution_count": null,
   "metadata": {},
   "outputs": [],
   "source": [
    "#remove stop words from latest cleaned transcript\n",
    "transcribed_list['clean_trans2']=transcribed_list['clean_trans'].apply(lambda x: \" \".join(x for x in x.split() if x not in nltk_stopwords))\n",
    "transcribed_list['clean_trans2'][:6]"
   ]
  },
  {
   "cell_type": "code",
   "execution_count": null,
   "metadata": {},
   "outputs": [],
   "source": [
    "from sklearn.feature_extraction.text import CountVectorizer\n",
    "\n",
    "# Now eliminaing customized stop words\n",
    "count_vect = CountVectorizer(binary=False, stop_words = nltk_stopwords) \n",
    "\n",
    "count_vect_custom_stopwords = count_vect.fit_transform(transcribed_list['clean_trans2'])\n",
    "print(count_vect_custom_stopwords.shape)\n",
    "print(count_vect_custom_stopwords)\n",
    "\n",
    "names = count_vect.get_feature_names()   \n",
    "count = np.sum(count_vect_custom_stopwords.toarray(), axis = 0) \n",
    "count2 = count.tolist() \n",
    "\n",
    "#dataframe of output\n",
    "count_df = pd.DataFrame(count2, index = names, columns = ['Word Count']) \n",
    "#  top 20 features by count\n",
    "count_df.sort_values(['Word Count'], ascending = False)[:20]\n",
    "\n"
   ]
  },
  {
   "cell_type": "code",
   "execution_count": null,
   "metadata": {},
   "outputs": [],
   "source": [
    "featured_words"
   ]
  },
  {
   "cell_type": "code",
   "execution_count": null,
   "metadata": {},
   "outputs": [],
   "source": [
    "#attempt Naive Bayes Classifier to predict sentiments\n",
    "\n",
    "featured_words = list(all_words)[:1000]\n",
    "print(featured_words)\n",
    "\n",
    "def document_features(document):\n",
    "    document_words = set(document)\n",
    "    features = {}\n",
    "    for word in featured_words:\n",
    "        features['contains({})'.format(word)] = (word in document_words)\n",
    "    return features\n",
    "\n",
    "\n",
    "#featuresets = [(document_features(d), c) for (d,c) in transcribed_list['clean_trans2']]\n",
    "#train_set, test_set = featuresets[200:], featuresets[:200]\n",
    "train_set, test_set = featured_words[100:], featured_words[:100]\n",
    "classifier = nltk.NaiveBayesClassifier.train(train_set)"
   ]
  },
  {
   "cell_type": "code",
   "execution_count": null,
   "metadata": {},
   "outputs": [],
   "source": [
    "featuresets = transcribed_list['clean_trans2']\n",
    "train_set, test_set = featuresets[200:], featuresets[:200]\n",
    "classifier = nltk.NaiveBayesClassifier.train(train_set)"
   ]
  },
  {
   "cell_type": "code",
   "execution_count": null,
   "metadata": {},
   "outputs": [],
   "source": [
    "print(nltk.classify.accuracy(classifier, test_set))"
   ]
  },
  {
   "cell_type": "code",
   "execution_count": null,
   "metadata": {},
   "outputs": [],
   "source": [
    "classifier.show_most_informative_features(5)"
   ]
  },
  {
   "cell_type": "code",
   "execution_count": null,
   "metadata": {},
   "outputs": [],
   "source": []
  }
 ],
 "metadata": {
  "kernelspec": {
   "display_name": "Python 3",
   "language": "python",
   "name": "python3"
  },
  "language_info": {
   "codemirror_mode": {
    "name": "ipython",
    "version": 3
   },
   "file_extension": ".py",
   "mimetype": "text/x-python",
   "name": "python",
   "nbconvert_exporter": "python",
   "pygments_lexer": "ipython3",
   "version": "3.8.3"
  }
 },
 "nbformat": 4,
 "nbformat_minor": 4
}
